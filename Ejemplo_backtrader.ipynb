{
  "nbformat": 4,
  "nbformat_minor": 0,
  "metadata": {
    "colab": {
      "private_outputs": true,
      "provenance": [],
      "collapsed_sections": [],
      "machine_shape": "hm"
    },
    "kernelspec": {
      "name": "python3",
      "display_name": "Python 3"
    },
    "language_info": {
      "name": "python"
    },
    "gpuClass": "standard"
  },
  "cells": [
    {
      "cell_type": "markdown",
      "source": [
        "# Ejemplo de pruebas con Backtrader\n",
        "\n",
        "Este es un simple ejemplo como realizar pruebas con backtesting para demostrar su funcionamiento.\n",
        "\n",
        "Una explicación más completa del código se puede ver en el blog:\n",
        "http://www.garcia-ferreira.es/backtesting-con-backtrader"
      ],
      "metadata": {
        "id": "JLdliVTcMtUI"
      }
    },
    {
      "cell_type": "markdown",
      "source": [
        "# Instalando las librerías necesarias"
      ],
      "metadata": {
        "id": "qXKnEompMQ41"
      }
    },
    {
      "cell_type": "code",
      "source": [
        "!pip install backtrader"
      ],
      "metadata": {
        "id": "87kxr6qFXbqL"
      },
      "execution_count": null,
      "outputs": []
    },
    {
      "cell_type": "code",
      "source": [
        "!pip install yahoo_fin"
      ],
      "metadata": {
        "id": "RcrW2n5NZ7Uq"
      },
      "execution_count": null,
      "outputs": []
    },
    {
      "cell_type": "markdown",
      "source": [
        "# Importando librerías"
      ],
      "metadata": {
        "id": "-35Xih6hMW44"
      }
    },
    {
      "cell_type": "code",
      "source": [
        "import backtrader as bt\n",
        "\n",
        "import datetime\n",
        "import pytz\n",
        "\n",
        "# %matplotlib inline\n",
        "import matplotlib.pyplot as plt\n",
        "import matplotlib.font_manager\n",
        "\n",
        "import requests\n",
        "import pandas as pd"
      ],
      "metadata": {
        "id": "uzqxbBl7XYzS"
      },
      "execution_count": null,
      "outputs": []
    },
    {
      "cell_type": "markdown",
      "source": [
        "# Descargando los datos"
      ],
      "metadata": {
        "id": "9TxkvfqxMbuC"
      }
    },
    {
      "cell_type": "code",
      "source": [
        "from yahoo_fin.stock_info import get_data\n",
        "starbucks = get_data(\"sbux\", start_date=\"01/01/2015\", end_date=\"01/01/2022\", index_as_date=True, interval=\"1d\")"
      ],
      "metadata": {
        "id": "hiBt8tx4aJoG"
      },
      "execution_count": null,
      "outputs": []
    },
    {
      "cell_type": "markdown",
      "source": [
        "# Clase principal de la estrategia"
      ],
      "metadata": {
        "id": "wc14vrMPMe4G"
      }
    },
    {
      "cell_type": "code",
      "source": [
        "class cruce50_200(bt.Strategy):\n",
        "  def __init__(self):\n",
        "    # Inicializamos la media de 50 y la de 200\n",
        "    self.sma50 = bt.indicators.SimpleMovingAverage(self.data, period=50, plotname=\"50 SMA\")\n",
        "    self.sma200 = bt.indicators.SimpleMovingAverage(self.data, period=200, plotname=\"200 SMA\")\n",
        "    self.cruce = bt.ind.CrossOver(self.sma50,self.sma200)\n",
        "\n",
        "    # Inicializamos la variable order, que usaremos para el control de las ordenes\n",
        "    # Para mantener el seguimiento de las órdenes pendientes\n",
        "    self.order = None\n",
        "    self.buyprice = None\n",
        "    self.sellprice = None\n",
        "\n",
        "    # guardamos el último dato de cierre\n",
        "    self.dataclose = self.datas[0].close\n",
        "\n",
        "  def next(self):\n",
        "    # Comprobamos si estamos en el mercado\n",
        "    # si no lo estamos seguimos para adelante\n",
        "    if not self.position:\n",
        "      # Si la media de 50 es mayor que la media de 200 compramos\n",
        "      # print(\"{}: {} - {}\".format(self.datas[0].datetime.date(0), self.sma50[0], self.sma200[0]))\n",
        "      if self.cruce > 0:\n",
        "        self.order = self.buy()\n",
        "        self.log('Orden de compra lanzada: %.2f' % self.dataclose[0])\n",
        "    # Si estamos en el mercado\n",
        "    else:\n",
        "      if self.cruce < 0:\n",
        "          # Si es así vendemos (con todos los parametros por defecto posibles)\n",
        "          self.log('Orden de venta lanzada: %.2f' % self.dataclose[0])\n",
        "          \n",
        "          # Mantenemos un seguimiento de la orden para evitar abrir una segunda orden\n",
        "          self.order = self.sell()\n",
        "\n",
        "  # Creamos este método para el control de las ordenes\n",
        "  def notify_order(self, order):\n",
        "    # Orden de compra o de venta aceptada por el brocker - Nada que hacer\n",
        "    if order.status in [order.Submitted, order.Accepted]:\n",
        "      return\n",
        "    # Orden de compra completada\n",
        "    # Comprobamos si es de compra o de venta y mostramos los resultados\n",
        "    if order.status in [order.Completed]:\n",
        "      if order.isbuy():\n",
        "        self.buyprice = order.executed.price\n",
        "        self.log('COMPRA EJECUTADA [Precio: %.2f, Comisión: %.2f]' % (order.executed.price, order.executed.comm))\n",
        "      elif order.issell():\n",
        "        self.sellprice = order.executed.price\n",
        "        self.log('VENTA EJECUTADA [Precio: %.2f, Comisión: %.2f]' % (order.executed.price,  order.executed.comm))\n",
        "    # Orden de compra cancelada\n",
        "    elif order.status == order.Canceled:\n",
        "      self.log('Orden Cancelada')\n",
        "    # Orden de compra cancelada por el margen de tu dinero\n",
        "    elif order.status == order.Margin:\n",
        "      self.log('Orden de Margen')\n",
        "    # Orden de compra rechazada\n",
        "    elif order.status == order.Rejected:\n",
        "      self.log('Orden Rechazada')\n",
        "\n",
        "  # Metodo para mostrar de manera más fácil los logs por pantalla\n",
        "  # incluyendo la fecha en la que se producen los eventos\n",
        "  def log(self, txt, dt=None):\n",
        "        # Vamos mostrando los datos\n",
        "        dt = dt or self.datas[0].datetime.date(0)\n",
        "        print('%s, %s' % (dt.isoformat(), txt))"
      ],
      "metadata": {
        "id": "_ZPjaA8Pl6bY"
      },
      "execution_count": null,
      "outputs": []
    },
    {
      "cell_type": "markdown",
      "source": [
        "# Código principal de backtrader"
      ],
      "metadata": {
        "id": "9X3RaZ6SMjvx"
      }
    },
    {
      "cell_type": "code",
      "source": [
        "cerebro = bt.Cerebro()\n",
        "\n",
        "# Añadimos los datos que hemso descargado previamente\n",
        "data1 = bt.feeds.PandasData(dataname=starbucks)\n",
        "cerebro.adddata(data1)\n",
        "\n",
        "# Añadimos la cantidad inicial de dinero con la que vamos a realizar el trading\n",
        "cerebro.broker.setcash(10000.0)\n",
        "# Añadimos la comisión - 0.1%\n",
        "cerebro.broker.setcommission(commission=0.001)\n",
        "# Tamaño de los lotes que queremos comprar\n",
        "cerebro.addsizer(bt.sizers.FixedSize, stake=1)\n",
        "\n",
        "cerebro.addstrategy(cruce50_200)\n",
        "\n",
        "# Mostramos los valores tanto inicial como final durante la ejecución del\n",
        "# proceso de backtesting\n",
        "print('Valor inicial del portfolio: %.2f' % cerebro.broker.getvalue())\n",
        "cerebro.run()\n",
        "print('Valor final del porfolio: %.2f' % cerebro.broker.getvalue())"
      ],
      "metadata": {
        "id": "FXmT_XRLXZeZ"
      },
      "execution_count": null,
      "outputs": []
    },
    {
      "cell_type": "markdown",
      "source": [
        "# Mostrando los datos gráficamente\n"
      ],
      "metadata": {
        "id": "0RJsYUJNMntD"
      }
    },
    {
      "cell_type": "code",
      "source": [
        "%matplotlib inline\n",
        "import matplotlib.pyplot as plt\n",
        "# plt.rcParams['font.sans-serif']=['SimHei']\n",
        "# plt.rcParams['axes.unicode_minus']=False\n",
        "plt.rcParams['figure.figsize']=[40, 16]\n",
        "plt.rcParams['figure.dpi']=500\n",
        "# plt.rcParams['figure.facecolor']='w'\n",
        "plt.rcParams['figure.edgecolor']='k'\n",
        "cerebro.plot(style='candle', iplot=False, volume = True, barupfill = False, bardownfill = False, barup='green', bardown='red')"
      ],
      "metadata": {
        "id": "wihKyW2QYu0Z"
      },
      "execution_count": null,
      "outputs": []
    }
  ]
}